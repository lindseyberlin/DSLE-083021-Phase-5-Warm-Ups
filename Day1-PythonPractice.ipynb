{
 "cells": [
  {
   "cell_type": "markdown",
   "metadata": {},
   "source": [
    "# Sorting a Sentence\n",
    "\n",
    "Given a shuffled sentence `s` with numerical indices attached to words, return the original sentence.\n",
    "\n",
    "#### Example:\n",
    "\n",
    "`s = 'golf4 playing3 love2 I1'`\n",
    "\n",
    "> 'I love playing golf'\n",
    "\n",
    "#### Constraints\n",
    "- `s` consists of at least one word and at maximum 9 words.\n",
    "- The words in `s` are separated by a single space."
   ]
  },
  {
   "cell_type": "code",
   "execution_count": 1,
   "metadata": {},
   "outputs": [],
   "source": [
    "s = 'golf4 playing3 love2 I1'"
   ]
  },
  {
   "cell_type": "code",
   "execution_count": 9,
   "metadata": {},
   "outputs": [
    {
     "data": {
      "text/plain": [
       "'I love playing golf'"
      ]
     },
     "execution_count": 9,
     "metadata": {},
     "output_type": "execute_result"
    }
   ],
   "source": [
    "# Option 1\n",
    "split_list = s.split(\" \")\n",
    "sorted_split_list = sorted(split_list, key=lambda x: x[-1])\n",
    "no_num_list = [word[:-1] for word in sorted_split_list]\n",
    "\" \".join(no_num_list)"
   ]
  },
  {
   "cell_type": "code",
   "execution_count": 15,
   "metadata": {
    "scrolled": true
   },
   "outputs": [
    {
     "data": {
      "text/plain": [
       "'I love playing golf'"
      ]
     },
     "execution_count": 15,
     "metadata": {},
     "output_type": "execute_result"
    }
   ],
   "source": [
    "# Option 2\n",
    "num_first = [x[-1]+x[:-1] for x in s.split(' ')]\n",
    "sorted_num_first = sorted(num_first)\n",
    "result = \"\"\n",
    "for i in sorted_num_first:\n",
    "    result += i[1:] + \" \"\n",
    "result[:-1]"
   ]
  },
  {
   "cell_type": "code",
   "execution_count": 28,
   "metadata": {},
   "outputs": [
    {
     "name": "stdout",
     "output_type": "stream",
     "text": [
      "{4: 'golf', 3: 'playing', 2: 'love', 1: 'I'}\n",
      "['I', 'love', 'playing', 'golf']\n"
     ]
    },
    {
     "data": {
      "text/plain": [
       "'I love playing golf'"
      ]
     },
     "execution_count": 28,
     "metadata": {},
     "output_type": "execute_result"
    }
   ],
   "source": [
    "# Lindsey's thought\n",
    "\n",
    "# words = s.split()\n",
    "\n",
    "# num_dict = {}\n",
    "# for w in words:\n",
    "#     key = int(w[-1])\n",
    "#     value = w[:-1]\n",
    "#     num_dict[key] = value\n",
    "    \n",
    "print({int(w[-1]):w[:-1] for w in s.split()})\n",
    "\n",
    "# sorted_sentence = []\n",
    "# for key in sorted(num_dict.keys()):\n",
    "#     sorted_sentence.append(num_dict[key])\n",
    "\n",
    "print([num_dict[key] for key in sorted(num_dict.keys())])\n",
    "\n",
    "\n",
    "' '.join(sorted_sentence)"
   ]
  },
  {
   "cell_type": "code",
   "execution_count": 30,
   "metadata": {},
   "outputs": [
    {
     "data": {
      "text/plain": [
       "['', '', '', '']"
      ]
     },
     "execution_count": 30,
     "metadata": {},
     "output_type": "execute_result"
    }
   ],
   "source": [
    "['' for _ in s.split()]"
   ]
  },
  {
   "cell_type": "code",
   "execution_count": 31,
   "metadata": {},
   "outputs": [
    {
     "data": {
      "text/plain": [
       "'I love playing golf'"
      ]
     },
     "execution_count": 31,
     "metadata": {},
     "output_type": "execute_result"
    }
   ],
   "source": [
    "# One more option\n",
    "'''\n",
    "My idea is to sort in a single loop and then ' '.join() at the end.\n",
    "I will use the number attached as the index where the word belongs.\n",
    "'''\n",
    "words = ['' for _ in s.split()]\n",
    "for element in s.split():\n",
    "    word, idx = element[:-1], int(element[-1]) # Extracting the word and number by slicing.\n",
    "    # Inserting the word into the given index (since it's 1-9, I use `idx-1` for proper indexing)\n",
    "    words[idx-1] = word\n",
    "' '.join(words)"
   ]
  },
  {
   "cell_type": "code",
   "execution_count": 2,
   "metadata": {},
   "outputs": [],
   "source": [
    "def rebuild_sentence(s):\n",
    "    '''\n",
    "    Takes in a jumbled sentence, where the numeric index is the last character,\n",
    "    and returns the unjumbled sentence\n",
    "    \n",
    "    Input:\n",
    "    s: str, jumbled string, with numbered indices attached to words at the end\n",
    "    \n",
    "    Output:\n",
    "    sentence: str, unjumbled string, without numbers\n",
    "    '''\n",
    "    "
   ]
  },
  {
   "cell_type": "code",
   "execution_count": 4,
   "metadata": {
    "scrolled": true
   },
   "outputs": [
    {
     "data": {
      "text/plain": [
       "'I love playing golf'"
      ]
     },
     "execution_count": 4,
     "metadata": {},
     "output_type": "execute_result"
    }
   ],
   "source": [
    "rebuild_sentence(s)"
   ]
  },
  {
   "cell_type": "markdown",
   "metadata": {},
   "source": [
    "#### Tests"
   ]
  },
  {
   "cell_type": "code",
   "execution_count": 5,
   "metadata": {},
   "outputs": [],
   "source": [
    "s_test1 = 'is4 data2 Doing1 best6 the5 science3'"
   ]
  },
  {
   "cell_type": "code",
   "execution_count": 6,
   "metadata": {},
   "outputs": [
    {
     "data": {
      "text/plain": [
       "'Doing data science is the best'"
      ]
     },
     "execution_count": 6,
     "metadata": {},
     "output_type": "execute_result"
    }
   ],
   "source": [
    "rebuild_sentence(s_test1)"
   ]
  },
  {
   "cell_type": "code",
   "execution_count": 7,
   "metadata": {},
   "outputs": [],
   "source": [
    "s_test2 = 'out9 long5 to7 is2 a3 try8 really4 This1 sentence6'"
   ]
  },
  {
   "cell_type": "code",
   "execution_count": 8,
   "metadata": {},
   "outputs": [
    {
     "data": {
      "text/plain": [
       "'This is a really long sentence to try out'"
      ]
     },
     "execution_count": 8,
     "metadata": {},
     "output_type": "execute_result"
    }
   ],
   "source": [
    "rebuild_sentence(s_test2)"
   ]
  }
 ],
 "metadata": {
  "kernelspec": {
   "display_name": "learn-env",
   "language": "python",
   "name": "learn-env"
  },
  "language_info": {
   "codemirror_mode": {
    "name": "ipython",
    "version": 3
   },
   "file_extension": ".py",
   "mimetype": "text/x-python",
   "name": "python",
   "nbconvert_exporter": "python",
   "pygments_lexer": "ipython3",
   "version": "3.8.5"
  }
 },
 "nbformat": 4,
 "nbformat_minor": 4
}
